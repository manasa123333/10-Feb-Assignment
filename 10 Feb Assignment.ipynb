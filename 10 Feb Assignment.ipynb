{
 "cells": [
  {
   "cell_type": "markdown",
   "id": "fe2ee06b-8e16-41aa-86e0-de6ae9b9efa5",
   "metadata": {},
   "source": [
    "Q1. Which function is used to open a file? What are the different modes of opening a file? Explain each mode  of file opening. \n",
    "=> We use open() to open a file.                                                \n",
    "The different  modes of opening a file are 'r','w','a','r+','a+','w+'.                      \n",
    "r - open a file in read mode.                              \n",
    "w - opens or create a text file in write mode.                          \n",
    "a - opens a file in append mode.                                 \n",
    "r+ - opens a file in both read and write mode.                                 \n",
    "a+ - opens a file in both read and write mode.                                    \n",
    "w+ - opens a file in both read and write mode.                                                "
   ]
  },
  {
   "cell_type": "markdown",
   "id": "0e12f48b-aea0-42dd-98d8-7dc300737b78",
   "metadata": {},
   "source": [
    "Q2. Why close() function is used? Why is it important to close a file?                                                            \n",
    "=> The close() method closes an open file. You should always close your files, in some cases, due to buffering, changes made to a file may not show until you close the file."
   ]
  },
  {
   "cell_type": "markdown",
   "id": "7b34ac21-ac96-4cf8-8b17-d922b851018f",
   "metadata": {},
   "source": [
    "Q3. Write a python program to create a text file. Write ‘I want to become a Data Scientist’ in that file. Then  close the file. Open this file and read the content of the file.   "
   ]
  },
  {
   "cell_type": "code",
   "execution_count": 2,
   "id": "38990f44-5b9f-48b3-8ae1-024f80e2f84b",
   "metadata": {},
   "outputs": [],
   "source": [
    "f = open(\"data.txt\",\"w\")\n"
   ]
  },
  {
   "cell_type": "code",
   "execution_count": 3,
   "id": "7d5cdb3c-f3e3-4fa7-945d-d3cc2296360d",
   "metadata": {},
   "outputs": [],
   "source": [
    "f.write(\"I want to become Data Scientist\")\n",
    "f.close()"
   ]
  },
  {
   "cell_type": "markdown",
   "id": "a9e1220a-8616-4c48-a97f-e9885049ecd5",
   "metadata": {},
   "source": [
    "Q4. Explain the following with python code: read(), readline() and readlines(). \n"
   ]
  },
  {
   "cell_type": "code",
   "execution_count": 4,
   "id": "c67dffe3-70e5-4e49-af9b-b8c7434da989",
   "metadata": {},
   "outputs": [
    {
     "data": {
      "text/plain": [
       "'I want to become Data Scientist'"
      ]
     },
     "execution_count": 4,
     "metadata": {},
     "output_type": "execute_result"
    }
   ],
   "source": [
    "#the read() method returns the specified number of bytes from the file\n",
    "f = open(\"data.txt\",\"r\")\n",
    "f.read()"
   ]
  },
  {
   "cell_type": "code",
   "execution_count": 6,
   "id": "d3b6997c-61d7-4de9-85cf-b8783699b181",
   "metadata": {},
   "outputs": [
    {
     "data": {
      "text/plain": [
       "'I want to become Data Scientist'"
      ]
     },
     "execution_count": 6,
     "metadata": {},
     "output_type": "execute_result"
    }
   ],
   "source": [
    "f = open(\"data.txt\",\"r\")\n",
    "f.readline()\n",
    "#The readline() method returns one line from the file."
   ]
  },
  {
   "cell_type": "code",
   "execution_count": 7,
   "id": "63c903e9-867d-4c27-894b-559d506669c7",
   "metadata": {},
   "outputs": [
    {
     "data": {
      "text/plain": [
       "['I want to become Data Scientist']"
      ]
     },
     "execution_count": 7,
     "metadata": {},
     "output_type": "execute_result"
    }
   ],
   "source": [
    "f = open(\"data.txt\",\"r\")\n",
    "f.readlines()\n",
    "#The readlines() method returns a list containing each line in the file as a list item"
   ]
  },
  {
   "cell_type": "markdown",
   "id": "1f697d8c-0721-4275-ac64-ad3004df5254",
   "metadata": {},
   "source": [
    "Q5. Explain why with statement is used with open(). What is the advantage of using with statement and  open() together?     \n",
    "The with statement works with the open() function to open a file. Unlike open() where you have to close the file with the close() method, the with statement closes the file for you without you telling it to. This is because the with statement calls 2 built-in methods behind the scene – __enter()__ and __exit()__ "
   ]
  },
  {
   "cell_type": "markdown",
   "id": "77cdf448-a54c-429e-9120-8388864c6171",
   "metadata": {},
   "source": [
    "Q6. Explain the write() and writelines() functions. Give a suitable example"
   ]
  },
  {
   "cell_type": "code",
   "execution_count": 8,
   "id": "3fe5f30f-6ff0-4c98-9f31-169b2918cdac",
   "metadata": {},
   "outputs": [],
   "source": [
    "f = open(\"data.txt\",\"w\")"
   ]
  },
  {
   "cell_type": "code",
   "execution_count": 9,
   "id": "9cdde53f-1698-476a-8caf-83be139c343d",
   "metadata": {},
   "outputs": [],
   "source": [
    "f.write(\"I am learning data science\")\n",
    "f.close()\n",
    "#Write - will overwrite any existing content"
   ]
  },
  {
   "cell_type": "code",
   "execution_count": 12,
   "id": "5dff4ee7-221e-4acd-a3bc-b1544aac4bbc",
   "metadata": {},
   "outputs": [],
   "source": [
    "f = open(\"data.txt\",\"w\")\n",
    "f.writelines([\"/nThis is 1st line\",\"/nThis is 2nd line\"])\n",
    "f.close()\n",
    "#The writelines() method writes the items of a list to the file"
   ]
  },
  {
   "cell_type": "code",
   "execution_count": null,
   "id": "f0f2ecc3-f88e-4f05-803c-c93a9c61e1be",
   "metadata": {},
   "outputs": [],
   "source": []
  }
 ],
 "metadata": {
  "kernelspec": {
   "display_name": "Python 3 (ipykernel)",
   "language": "python",
   "name": "python3"
  },
  "language_info": {
   "codemirror_mode": {
    "name": "ipython",
    "version": 3
   },
   "file_extension": ".py",
   "mimetype": "text/x-python",
   "name": "python",
   "nbconvert_exporter": "python",
   "pygments_lexer": "ipython3",
   "version": "3.10.8"
  }
 },
 "nbformat": 4,
 "nbformat_minor": 5
}
